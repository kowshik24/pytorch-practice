{
 "cells": [
  {
   "cell_type": "code",
   "execution_count": 1,
   "metadata": {},
   "outputs": [],
   "source": [
    "import torch\n",
    "import numpy as np"
   ]
  },
  {
   "cell_type": "code",
   "execution_count": 2,
   "metadata": {},
   "outputs": [
    {
     "data": {
      "text/plain": [
       "tensor([-0.0983])"
      ]
     },
     "execution_count": 2,
     "metadata": {},
     "output_type": "execute_result"
    }
   ],
   "source": [
    "torch.randn(1)"
   ]
  },
  {
   "cell_type": "code",
   "execution_count": 70,
   "metadata": {},
   "outputs": [
    {
     "name": "stdout",
     "output_type": "stream",
     "text": [
      "tensor([0., 1., 2., 3., 4., 5., 6., 7., 8., 9.])\n",
      "torch.Size([10])\n"
     ]
    }
   ],
   "source": [
    "# Define a weight and bias\n",
    "weight = 0.7\n",
    "bias = 0.1\n",
    "\n",
    "x = torch.arange(10).float()\n",
    "print(x)\n",
    "print(x.shape)"
   ]
  },
  {
   "cell_type": "code",
   "execution_count": 71,
   "metadata": {},
   "outputs": [
    {
     "data": {
      "text/plain": [
       "tensor([0.1000, 0.8000, 1.5000, 2.2000, 2.9000, 3.6000, 4.3000, 5.0000, 5.7000,\n",
       "        6.4000])"
      ]
     },
     "execution_count": 71,
     "metadata": {},
     "output_type": "execute_result"
    }
   ],
   "source": [
    "y = weight * x + bias\n",
    "y"
   ]
  },
  {
   "cell_type": "code",
   "execution_count": 72,
   "metadata": {},
   "outputs": [
    {
     "data": {
      "image/png": "[encoded data removed]",
      "text/plain": [
       "<Figure size 640x480 with 1 Axes>"
      ]
     },
     "metadata": {},
     "output_type": "display_data"
    }
   ],
   "source": [
    "import matplotlib.pyplot as plt\n",
    "\n",
    "plt.plot(x, y, 'o')\n",
    "plt.title(\"y = 0.7x + 0.1\")\n",
    "plt.show()"
   ]
  },
  {
   "cell_type": "code",
   "execution_count": 76,
   "metadata": {},
   "outputs": [
    {
     "name": "stdout",
     "output_type": "stream",
     "text": [
      "X_train shape:  torch.Size([8])\n",
      "X_test shape:  torch.Size([2])\n",
      "y_train shape:  torch.Size([8])\n",
      "y_test shape:  torch.Size([2])\n"
     ]
    }
   ],
   "source": [
    "X_train , X_test = x[:8], x[8:]\n",
    "y_train , y_test = y[:8], y[8:]\n",
    "print(\"X_train shape: \", X_train.shape)\n",
    "print(\"X_test shape: \", X_test.shape)\n",
    "print(\"y_train shape: \", y_train.shape)\n",
    "print(\"y_test shape: \", y_test.shape)"
   ]
  },
  {
   "cell_type": "code",
   "execution_count": 77,
   "metadata": {},
   "outputs": [
    {
     "data": {
      "image/png": "[encoded data removed]",
      "text/plain": [
       "<Figure size 640x480 with 1 Axes>"
      ]
     },
     "metadata": {},
     "output_type": "display_data"
    }
   ],
   "source": [
    "# Plot the training data and test data\n",
    "plt.plot(X_train, y_train, '.', label='Training data',color='blue')\n",
    "plt.plot(X_test, y_test, '.', label='Testing data',color='red')\n",
    "plt.legend()\n",
    "plt.show()\n"
   ]
  },
  {
   "cell_type": "code",
   "execution_count": 78,
   "metadata": {},
   "outputs": [],
   "source": [
    "import torch.nn as nn\n",
    "class LinearRegressionModel(nn.Module):\n",
    "    def __init__(self):\n",
    "        super(LinearRegressionModel, self).__init__()\n",
    "        # weight value initailation\n",
    "        self.weight = nn.Parameter(torch.randn(1),\n",
    "                                   requires_grad=True)\n",
    "\n",
    "        # bias value initailation\n",
    "        self.bias = nn.Parameter(torch.randn(1),\n",
    "                                 requires_grad=True)\n",
    "\n",
    "    def forward(self, x: torch.Tensor) -> torch.Tensor:\n",
    "        return self.weight * x + self.bias\n",
    "\n"
   ]
  },
  {
   "cell_type": "code",
   "execution_count": 79,
   "metadata": {},
   "outputs": [
    {
     "data": {
      "text/plain": [
       "OrderedDict([('weight', tensor([0.3367])), ('bias', tensor([0.1288]))])"
      ]
     },
     "execution_count": 79,
     "metadata": {},
     "output_type": "execute_result"
    }
   ],
   "source": [
    "model_0 = LinearRegressionModel()\n",
    "model_0.state_dict()"
   ]
  },
  {
   "cell_type": "code",
   "execution_count": 80,
   "metadata": {},
   "outputs": [
    {
     "data": {
      "text/plain": [
       "[Parameter containing:\n",
       " tensor([0.3367], requires_grad=True),\n",
       " Parameter containing:\n",
       " tensor([0.1288], requires_grad=True)]"
      ]
     },
     "execution_count": 80,
     "metadata": {},
     "output_type": "execute_result"
    }
   ],
   "source": [
    "list(model_0.parameters())"
   ]
  },
  {
   "cell_type": "code",
   "execution_count": 81,
   "metadata": {},
   "outputs": [],
   "source": [
    "# Define the loss function\n",
    "loss_fn = nn.L1Loss()\n",
    "\n",
    "# Define the optimizer\n",
    "\n",
    "optimizer = torch.optim.SGD(model_0.parameters(), lr=0.01)"
   ]
  },
  {
   "cell_type": "code",
   "execution_count": 82,
   "metadata": {},
   "outputs": [
    {
     "name": "stdout",
     "output_type": "stream",
     "text": [
      "Epoch 0, Training loss: 1.249976634979248, Testing loss: 2.7543222904205322\n",
      "Model weight: 0.3716903626918793, Model bias: 0.1363094002008438\n",
      "\n",
      "\n",
      "Epoch 10, Training loss: 0.04482733830809593, Testing loss: 0.08307123184204102\n",
      "Model weight: 0.679190456867218, Model bias: 0.19380934536457062\n",
      "\n",
      "\n",
      "Epoch 20, Training loss: 0.042225517332553864, Testing loss: 0.3068230152130127\n",
      "Model weight: 0.6566902995109558, Model bias: 0.16130931675434113\n",
      "\n",
      "\n",
      "Epoch 30, Training loss: 0.021077141165733337, Testing loss: 0.05057477951049805\n",
      "Model weight: 0.6891900897026062, Model bias: 0.14130929112434387\n",
      "\n",
      "\n",
      "Epoch 40, Training loss: 0.05222466215491295, Testing loss: 0.22182512283325195\n",
      "Model weight: 0.671690046787262, Model bias: 0.118809275329113\n",
      "\n",
      "\n",
      "Epoch 50, Training loss: 0.039724644273519516, Testing loss: 0.23432493209838867\n",
      "Model weight: 0.671690046787262, Model bias: 0.10630928725004196\n",
      "\n",
      "\n",
      "Epoch 60, Training loss: 0.03222468122839928, Testing loss: 0.24182510375976562\n",
      "Model weight: 0.671690046787262, Model bias: 0.09880929440259933\n",
      "\n",
      "\n",
      "Epoch 70, Training loss: 0.03222468122839928, Testing loss: 0.24182510375976562\n",
      "Model weight: 0.671690046787262, Model bias: 0.09880929440259933\n",
      "\n",
      "\n",
      "Epoch 80, Training loss: 0.03222468122839928, Testing loss: 0.24182510375976562\n",
      "Model weight: 0.671690046787262, Model bias: 0.09880929440259933\n",
      "\n",
      "\n",
      "Epoch 90, Training loss: 0.03222468122839928, Testing loss: 0.24182510375976562\n",
      "Model weight: 0.671690046787262, Model bias: 0.09880929440259933\n",
      "\n",
      "\n"
     ]
    }
   ],
   "source": [
    "# Set the random seed for reproducibility(`torch.manual_seed(42)`)\n",
    "torch.manual_seed(42)\n",
    "\n",
    "train_loss = []\n",
    "test_loss = []\n",
    "epoch_count = []\n",
    "\n",
    "epochs = 100\n",
    "\n",
    "for epoch in range(epochs):\n",
    "\n",
    "    # Training\n",
    "    model_0.train()\n",
    "\n",
    "    # Forward pass\n",
    "    y_train_pred = model_0(X_train)\n",
    "\n",
    "    # Calculate the loss\n",
    "    loss = loss_fn(y_train_pred, y_train)\n",
    "\n",
    "    # Zero all the gradients\n",
    "    optimizer.zero_grad()\n",
    "\n",
    "    # Backward pass\n",
    "    loss.backward()\n",
    "\n",
    "    # Optimizer step\n",
    "    optimizer.step()\n",
    "\n",
    "    with torch.inference_mode():\n",
    "        # Test\n",
    "        model_0.eval()\n",
    "\n",
    "        # Forward pass\n",
    "        y_test_pred = model_0(X_test)\n",
    "\n",
    "        # Calculate the loss\n",
    "        test_loss.append(loss_fn(y_test_pred, y_test).item())\n",
    "        train_loss.append(loss.item())\n",
    "        epoch_count.append(epoch)\n",
    "    \n",
    "    if epoch % 10 == 0:\n",
    "        print(f\"Epoch {epoch}, Training loss: {loss.item()}, Testing loss: {test_loss[-1]}\")\n",
    "        print(f\"Model weight: {model_0.weight.item()}, Model bias: {model_0.bias.item()}\")\n",
    "        print(\"\\n\")"
   ]
  },
  {
   "cell_type": "code",
   "execution_count": 83,
   "metadata": {},
   "outputs": [],
   "source": [
    "with torch.inference_mode():\n",
    "    y_pred_new = model_0(X_test)\n"
   ]
  },
  {
   "cell_type": "code",
   "execution_count": 84,
   "metadata": {},
   "outputs": [
    {
     "data": {
      "text/plain": [
       "tensor([-0.0623, -0.0690])"
      ]
     },
     "execution_count": 84,
     "metadata": {},
     "output_type": "execute_result"
    }
   ],
   "source": [
    "y_test-y_pred_new"
   ]
  },
  {
   "cell_type": "code",
   "execution_count": 85,
   "metadata": {},
   "outputs": [
    {
     "data": {
      "image/png": "[encoded data removed]",
      "text/plain": [
       "<Figure size 640x480 with 1 Axes>"
      ]
     },
     "metadata": {},
     "output_type": "display_data"
    }
   ],
   "source": [
    "# Line plot of training and testing loss\n",
    "plt.plot(epoch_count, train_loss, label='Training loss')\n",
    "plt.plot(epoch_count, test_loss, label='Testing loss')\n",
    "plt.legend()\n",
    "plt.title('Training and Testing loss')\n",
    "plt.show()"
   ]
  },
  {
   "cell_type": "code",
   "execution_count": 86,
   "metadata": {},
   "outputs": [
    {
     "data": {
      "image/png": "[encoded data removed]",
      "text/plain": [
       "<Figure size 640x480 with 1 Axes>"
      ]
     },
     "metadata": {},
     "output_type": "display_data"
    }
   ],
   "source": [
    "plt.plot(X_train, y_train, '.', label='Training data', color='blue')\n",
    "plt.plot(X_test, y_test, '.', label='Testing data', color='red')\n",
    "plt.plot(X_test, y_pred_new.detach().numpy(), '.',  label='Prediction', color='green',)\n",
    "plt.legend()\n",
    "plt.title(\"Prediction vs. Actual\")\n",
    "plt.show()"
   ]
  },
  {
   "cell_type": "code",
   "execution_count": 90,
   "metadata": {},
   "outputs": [],
   "source": [
    "# Save the model\n",
    "torch.save(model_0.state_dict(), 'models/linear_model.pth')"
   ]
  },
  {
   "cell_type": "code",
   "execution_count": 92,
   "metadata": {},
   "outputs": [
    {
     "data": {
      "image/png": "[encoded data removed]",
      "text/plain": [
       "<Figure size 640x480 with 1 Axes>"
      ]
     },
     "metadata": {},
     "output_type": "display_data"
    }
   ],
   "source": [
    "# Load the saved model\n",
    "model_1 = LinearRegressionModel()\n",
    "model_1.load_state_dict(torch.load('models/linear_model.pth'))\n",
    "                        \n",
    "# Predict on validation data(First create the validation data)\n",
    "X_val = torch.arange(10).float()\n",
    "y_val = weight * X_val + bias\n",
    "\n",
    "# Make prediction\n",
    "y_val_pred = model_1(X_val)\n",
    "\n",
    "# Plot the prediction\n",
    "plt.plot(X_val, y_val, '.', label='Validation data', color='red')\n",
    "plt.plot(X_val, y_val_pred.detach().numpy(), '.', label='Prediction', color='green')\n",
    "plt.legend()\n",
    "plt.title(\"Prediction vs. Actual\")\n",
    "plt.show()\n"
   ]
  },
  {
   "cell_type": "markdown",
   "metadata": {},
   "source": [
    "## Email Spam Classification"
   ]
  },
  {
   "cell_type": "code",
   "execution_count": 137,
   "metadata": {},
   "outputs": [
    {
     "data": {
      "text/html": [
       "<div>\n",
       "<style scoped>\n",
       "    .dataframe tbody tr th:only-of-type {\n",
       "        vertical-align: middle;\n",
       "    }\n",
       "\n",
       "    .dataframe tbody tr th {\n",
       "        vertical-align: top;\n",
       "    }\n",
       "\n",
       "    .dataframe thead th {\n",
       "        text-align: right;\n",
       "    }\n",
       "</style>\n",
       "<table border=\"1\" class=\"dataframe\">\n",
       "  <thead>\n",
       "    <tr style=\"text-align: right;\">\n",
       "      <th></th>\n",
       "      <th>label</th>\n",
       "      <th>text</th>\n",
       "      <th>label_num</th>\n",
       "    </tr>\n",
       "  </thead>\n",
       "  <tbody>\n",
       "    <tr>\n",
       "      <th>0</th>\n",
       "      <td>ham</td>\n",
       "      <td>Subject: enron methanol ; meter # : 988291\\r\\n...</td>\n",
       "      <td>0</td>\n",
       "    </tr>\n",
       "    <tr>\n",
       "      <th>1</th>\n",
       "      <td>ham</td>\n",
       "      <td>Subject: hpl nom for january 9 , 2001\\r\\n( see...</td>\n",
       "      <td>0</td>\n",
       "    </tr>\n",
       "    <tr>\n",
       "      <th>2</th>\n",
       "      <td>ham</td>\n",
       "      <td>Subject: neon retreat\\r\\nho ho ho , we ' re ar...</td>\n",
       "      <td>0</td>\n",
       "    </tr>\n",
       "    <tr>\n",
       "      <th>3</th>\n",
       "      <td>spam</td>\n",
       "      <td>Subject: photoshop , windows , office . cheap ...</td>\n",
       "      <td>1</td>\n",
       "    </tr>\n",
       "    <tr>\n",
       "      <th>4</th>\n",
       "      <td>ham</td>\n",
       "      <td>Subject: re : indian springs\\r\\nthis deal is t...</td>\n",
       "      <td>0</td>\n",
       "    </tr>\n",
       "  </tbody>\n",
       "</table>\n",
       "</div>"
      ],
      "text/plain": [
       "  label                                               text  label_num\n",
       "0   ham  Subject: enron methanol ; meter # : 988291\\r\\n...          0\n",
       "1   ham  Subject: hpl nom for january 9 , 2001\\r\\n( see...          0\n",
       "2   ham  Subject: neon retreat\\r\\nho ho ho , we ' re ar...          0\n",
       "3  spam  Subject: photoshop , windows , office . cheap ...          1\n",
       "4   ham  Subject: re : indian springs\\r\\nthis deal is t...          0"
      ]
     },
     "execution_count": 137,
     "metadata": {},
     "output_type": "execute_result"
    }
   ],
   "source": [
    "import pandas as pd\n",
    "\n",
    "df = pd.read_csv('dataset\\spam_ham_dataset.csv',usecols=['label','text','label_num'])\n",
    "df.head()"
   ]
  },
  {
   "cell_type": "code",
   "execution_count": 138,
   "metadata": {},
   "outputs": [
    {
     "data": {
      "text/plain": [
       "label\n",
       "ham     3672\n",
       "spam    1499\n",
       "Name: count, dtype: int64"
      ]
     },
     "execution_count": 138,
     "metadata": {},
     "output_type": "execute_result"
    }
   ],
   "source": [
    "df['label'].value_counts()"
   ]
  },
  {
   "cell_type": "code",
   "execution_count": 139,
   "metadata": {},
   "outputs": [
    {
     "name": "stdout",
     "output_type": "stream",
     "text": [
      "Subject: enron methanol ; meter # : 988291\n",
      "this is a follow up to the note i gave you on monday , 4 / 3 / 00 { preliminary\n",
      "flow data provided by daren } .\n",
      "please override pop ' s daily volume { presently zero } to reflect daily\n",
      "activity you can obtain from gas control .\n",
      "this change is needed asap for economics purposes .\n"
     ]
    }
   ],
   "source": [
    "print(df.iloc[0]['text'])"
   ]
  },
  {
   "cell_type": "code",
   "execution_count": 140,
   "metadata": {},
   "outputs": [
    {
     "name": "stdout",
     "output_type": "stream",
     "text": [
      "Subject: photoshop , windows , office . cheap . main trending\n",
      "abasements darer prudently fortuitous undergone\n",
      "lighthearted charm orinoco taster\n",
      "railroad affluent pornographic cuvier\n",
      "irvin parkhouse blameworthy chlorophyll\n",
      "robed diagrammatic fogarty clears bayda\n",
      "inconveniencing managing represented smartness hashish\n",
      "academies shareholders unload badness\n",
      "danielson pure caffein\n",
      "spaniard chargeable levin\n",
      "\n"
     ]
    }
   ],
   "source": [
    "print(df.iloc[3]['text'])"
   ]
  },
  {
   "cell_type": "code",
   "execution_count": 143,
   "metadata": {},
   "outputs": [
    {
     "name": "stdout",
     "output_type": "stream",
     "text": [
      "X_train shape:  (3308,)\n",
      "X_val shape:  (828,)\n",
      "X_test shape:  (1035,)\n",
      "y_train shape:  (3308,)\n",
      "y_val shape:  (828,)\n",
      "y_test shape:  (1035,)\n"
     ]
    }
   ],
   "source": [
    "from sklearn.feature_extraction.text import CountVectorizer\n",
    "from sklearn.model_selection import train_test_split\n",
    "\n",
    "X = df['text']\n",
    "y = df['label_num']\n",
    "\n",
    "# Train Test and Val split\n",
    "X_train, X_test, y_train, y_test = train_test_split(X, y, test_size=0.2, random_state=42)\n",
    "X_train, X_val, y_train, y_val = train_test_split(X_train, y_train, test_size=0.2, random_state=42)\n",
    "\n",
    "print(\"X_train shape: \", X_train.shape)\n",
    "print(\"X_val shape: \", X_val.shape)\n",
    "print(\"X_test shape: \", X_test.shape)\n",
    "print(\"y_train shape: \", y_train.shape)\n",
    "print(\"y_val shape: \", y_val.shape)\n",
    "print(\"y_test shape: \", y_test.shape)"
   ]
  },
  {
   "cell_type": "code",
   "execution_count": 144,
   "metadata": {},
   "outputs": [],
   "source": [
    "vectorizer = CountVectorizer()\n",
    "X_train = vectorizer.fit_transform(X_train)\n",
    "X_test = vectorizer.transform(X_test)\n",
    "X_val = vectorizer.transform(X_val)"
   ]
  },
  {
   "cell_type": "code",
   "execution_count": 145,
   "metadata": {},
   "outputs": [
    {
     "data": {
      "text/plain": [
       "(1, 39700)"
      ]
     },
     "execution_count": 145,
     "metadata": {},
     "output_type": "execute_result"
    }
   ],
   "source": [
    "X_train[1].toarray().shape"
   ]
  },
  {
   "cell_type": "code",
   "execution_count": 146,
   "metadata": {},
   "outputs": [
    {
     "data": {
      "text/plain": [
       "array(['00', '000', '0000', '000000', '000000000049773', '000080',\n",
       "       '000099', '00018', '0004', '0005', '0008', '001', '0010', '001001',\n",
       "       '0012', '001452', '002', '0022', '00221', '0025', '0027', '00298',\n",
       "       '003', '0030', '003002', '0031', '0033', '0038', '004', '0042',\n",
       "       '0043', '0044', '0045', '0046', '0049', '005', '0051', '006',\n",
       "       '006600', '0067', '007', '0071', '0074', '008', '0080', '009',\n",
       "       '0090', '01', '010', '0100', '0101', '011', '012', '012603', '013',\n",
       "       '0130', '014', '01405', '01408304990', '01474', '015', '016',\n",
       "       '0170', '0182', '0184', '019017', '01915', '02', '020', '0200',\n",
       "       '02010207', '021', '022', '0232', '024', '025', '025648', '026',\n",
       "       '027', '028', '02897893', '029', '03', '030', '0300', '03090806',\n",
       "       '031', '03149', '0324', '0325567', '033', '0331', '034', '0347',\n",
       "       '035', '0357', '036', '0363', '036474336', '037'], dtype=object)"
      ]
     },
     "execution_count": 146,
     "metadata": {},
     "output_type": "execute_result"
    }
   ],
   "source": [
    "vectorizer.get_feature_names_out()[:100]"
   ]
  },
  {
   "cell_type": "code",
   "execution_count": 147,
   "metadata": {},
   "outputs": [
    {
     "data": {
      "text/plain": [
       "(3308, 39700)"
      ]
     },
     "execution_count": 147,
     "metadata": {},
     "output_type": "execute_result"
    }
   ],
   "source": [
    "X_train.shape"
   ]
  },
  {
   "cell_type": "code",
   "execution_count": 148,
   "metadata": {},
   "outputs": [],
   "source": [
    "class SpamHamClassifier(nn.Module):\n",
    "    def __init__(self):\n",
    "        super(SpamHamClassifier, self).__init__()\n",
    "        self.linear = nn.Linear(in_features=X_train.shape[1], out_features=1)\n",
    "    \n",
    "    def forward(self, x: torch.Tensor) -> torch.Tensor:\n",
    "        return torch.sigmoid(self.linear(x))\n",
    "\n",
    "model = SpamHamClassifier()"
   ]
  },
  {
   "cell_type": "code",
   "execution_count": 149,
   "metadata": {},
   "outputs": [
    {
     "data": {
      "text/plain": [
       "OrderedDict([('linear.weight',\n",
       "              tensor([[-0.0028, -0.0034,  0.0024,  ..., -0.0050,  0.0035,  0.0032]])),\n",
       "             ('linear.bias', tensor([-0.0030]))])"
      ]
     },
     "execution_count": 149,
     "metadata": {},
     "output_type": "execute_result"
    }
   ],
   "source": [
    "model.state_dict()"
   ]
  },
  {
   "cell_type": "code",
   "execution_count": 150,
   "metadata": {},
   "outputs": [],
   "source": [
    "loss_fn = nn.BCELoss()\n",
    "\n",
    "optimizer = torch.optim.Adam(model.parameters(), lr=0.001)\n"
   ]
  },
  {
   "cell_type": "code",
   "execution_count": 151,
   "metadata": {},
   "outputs": [],
   "source": [
    "type(X_train)\n",
    "\n",
    "X_train = torch.tensor(X_train.toarray()).float()\n",
    "X_test = torch.tensor(X_test.toarray()).float()\n",
    "X_val = torch.tensor(X_val.toarray()).float()"
   ]
  },
  {
   "cell_type": "code",
   "execution_count": 152,
   "metadata": {},
   "outputs": [
    {
     "name": "stdout",
     "output_type": "stream",
     "text": [
      "Epoch 0, Training loss: 0.6950510740280151, Testing loss: 0.6541847586631775\n",
      "\n",
      "\n",
      "Epoch 10, Training loss: 0.44216686487197876, Testing loss: 0.4579259753227234\n",
      "\n",
      "\n",
      "Epoch 20, Training loss: 0.3385421931743622, Testing loss: 0.37284231185913086\n",
      "\n",
      "\n",
      "Epoch 30, Training loss: 0.278394490480423, Testing loss: 0.3229508101940155\n",
      "\n",
      "\n",
      "Epoch 40, Training loss: 0.23846390843391418, Testing loss: 0.2902570366859436\n",
      "\n",
      "\n",
      "Epoch 50, Training loss: 0.20983141660690308, Testing loss: 0.2668422758579254\n",
      "\n",
      "\n",
      "Epoch 60, Training loss: 0.1880607306957245, Testing loss: 0.24887940287590027\n",
      "\n",
      "\n",
      "Epoch 70, Training loss: 0.1707608550786972, Testing loss: 0.2345251441001892\n",
      "\n",
      "\n",
      "Epoch 80, Training loss: 0.15656906366348267, Testing loss: 0.22274591028690338\n",
      "\n",
      "\n",
      "Epoch 90, Training loss: 0.14465519785881042, Testing loss: 0.21286718547344208\n",
      "\n",
      "\n"
     ]
    }
   ],
   "source": [
    "# Set the random seed for reproducibility\n",
    "torch.manual_seed(42)\n",
    "\n",
    "train_loss = []\n",
    "test_loss = []\n",
    "\n",
    "epochs = 100\n",
    "\n",
    "for epoch in range(epochs):\n",
    "    # Training\n",
    "    model.train()\n",
    "\n",
    "    # Forward pass\n",
    "    y_train_pred = model(X_train)\n",
    "\n",
    "    # Convert y_train to a tensor\n",
    "    y_train_tensor = torch.tensor(y_train.values, dtype=torch.float32).view(-1, 1)\n",
    "\n",
    "    # Calculate the loss\n",
    "    loss = loss_fn(y_train_pred, y_train_tensor)\n",
    "\n",
    "    # Zero all the gradients\n",
    "    optimizer.zero_grad()\n",
    "\n",
    "    # Backward pass\n",
    "    loss.backward()\n",
    "\n",
    "    # Optimizer step\n",
    "    optimizer.step()\n",
    "\n",
    "    with torch.inference_mode():\n",
    "        # Test\n",
    "        model.eval()\n",
    "\n",
    "        # Forward pass\n",
    "        y_test_pred = model(X_test)\n",
    "\n",
    "        # Convert y_test to a tensor\n",
    "        y_test_tensor = torch.tensor(y_test.values, dtype=torch.float32).view(-1, 1)\n",
    "\n",
    "        # Calculate the loss\n",
    "        test_loss.append(loss_fn(y_test_pred, y_test_tensor).item())\n",
    "        train_loss.append(loss.item())\n",
    "    \n",
    "    if epoch % 10 == 0:\n",
    "        print(f\"Epoch {epoch}, Training loss: {loss.item()}, Testing loss: {test_loss[-1]}\")\n",
    "        print(\"\\n\")"
   ]
  },
  {
   "cell_type": "code",
   "execution_count": 153,
   "metadata": {},
   "outputs": [
    {
     "data": {
      "image/png": "[encoded data removed]",
      "text/plain": [
       "<Figure size 640x480 with 1 Axes>"
      ]
     },
     "metadata": {},
     "output_type": "display_data"
    }
   ],
   "source": [
    "# Line plot of training and testing loss\n",
    "plt.plot(range(epochs), train_loss, label='Training loss')\n",
    "plt.plot(range(epochs), test_loss, label='Testing loss')\n",
    "plt.legend()\n",
    "plt.title('Training and Testing loss')\n",
    "plt.show()\n"
   ]
  },
  {
   "cell_type": "code",
   "execution_count": 157,
   "metadata": {},
   "outputs": [],
   "source": [
    "# Make prediction on val data\n",
    "\n",
    "model.eval()\n",
    "\n",
    "with torch.inference_mode():\n",
    "    y_val_pred = model(X_val)\n"
   ]
  },
  {
   "cell_type": "code",
   "execution_count": 158,
   "metadata": {},
   "outputs": [
    {
     "data": {
      "text/plain": [
       "tensor([[4.8048e-02],\n",
       "        [7.4263e-01],\n",
       "        [2.4223e-01],\n",
       "        [2.3874e-05],\n",
       "        [5.9358e-03],\n",
       "        [1.7557e-01],\n",
       "        [5.0960e-02],\n",
       "        [6.3086e-01],\n",
       "        [8.0925e-04],\n",
       "        [2.5876e-01],\n",
       "        [7.9186e-02],\n",
       "        [1.0318e-01],\n",
       "        [2.3772e-04],\n",
       "        [7.0774e-01],\n",
       "        [2.3584e-02],\n",
       "        [5.5409e-01],\n",
       "        [3.7641e-02],\n",
       "        [5.0846e-02],\n",
       "        [5.9157e-01],\n",
       "        [7.8751e-01],\n",
       "        [9.1981e-07],\n",
       "        [1.7010e-06],\n",
       "        [8.6332e-01],\n",
       "        [8.8977e-01],\n",
       "        [9.7976e-01],\n",
       "        [1.3542e-01],\n",
       "        [1.0078e-02],\n",
       "        [2.8985e-01],\n",
       "        [1.9634e-01],\n",
       "        [5.2976e-01],\n",
       "        [2.1659e-01],\n",
       "        [1.7081e-01],\n",
       "        [9.5747e-01],\n",
       "        [1.8590e-01],\n",
       "        [2.0911e-02],\n",
       "        [8.6111e-01],\n",
       "        [8.5395e-02],\n",
       "        [3.5725e-01],\n",
       "        [6.0197e-02],\n",
       "        [1.5814e-01],\n",
       "        [5.2411e-01],\n",
       "        [9.3598e-04],\n",
       "        [2.1466e-01],\n",
       "        [8.4019e-01],\n",
       "        [2.6801e-01],\n",
       "        [1.7104e-01],\n",
       "        [9.1950e-01],\n",
       "        [2.6104e-01],\n",
       "        [6.8412e-02],\n",
       "        [1.9421e-01],\n",
       "        [1.2922e-04],\n",
       "        [1.1128e-01],\n",
       "        [2.5881e-01],\n",
       "        [4.8507e-01],\n",
       "        [9.5307e-02],\n",
       "        [2.3587e-01],\n",
       "        [2.9575e-02],\n",
       "        [3.1826e-02],\n",
       "        [7.6755e-03],\n",
       "        [7.5103e-01],\n",
       "        [1.3917e-01],\n",
       "        [5.7271e-01],\n",
       "        [1.7929e-01],\n",
       "        [4.0312e-02],\n",
       "        [2.0895e-03],\n",
       "        [5.9114e-01],\n",
       "        [8.9760e-01],\n",
       "        [8.8753e-01],\n",
       "        [9.8142e-01],\n",
       "        [9.4304e-01],\n",
       "        [2.3532e-02],\n",
       "        [1.1780e-01],\n",
       "        [3.5970e-02],\n",
       "        [8.5927e-01],\n",
       "        [1.3660e-01],\n",
       "        [5.5008e-03],\n",
       "        [3.2725e-01],\n",
       "        [8.3982e-02],\n",
       "        [1.4310e-01],\n",
       "        [8.4074e-05],\n",
       "        [2.7581e-02],\n",
       "        [2.7599e-03],\n",
       "        [6.1323e-01],\n",
       "        [9.9857e-01],\n",
       "        [3.1384e-02],\n",
       "        [5.6350e-01],\n",
       "        [1.3493e-01],\n",
       "        [8.0890e-01],\n",
       "        [3.0418e-01],\n",
       "        [6.9286e-05],\n",
       "        [1.0555e-01],\n",
       "        [7.3921e-01],\n",
       "        [3.9070e-01],\n",
       "        [5.3878e-01],\n",
       "        [7.3220e-03],\n",
       "        [2.1952e-01],\n",
       "        [6.2566e-01],\n",
       "        [1.6469e-01],\n",
       "        [8.7762e-02],\n",
       "        [7.2184e-01],\n",
       "        [3.5815e-02],\n",
       "        [1.9457e-01],\n",
       "        [7.1063e-01],\n",
       "        [6.4461e-01],\n",
       "        [1.1201e-02],\n",
       "        [4.1279e-04],\n",
       "        [9.2491e-01],\n",
       "        [5.3234e-02],\n",
       "        [4.9404e-01],\n",
       "        [7.1959e-02],\n",
       "        [4.6627e-01],\n",
       "        [1.5903e-02],\n",
       "        [1.8213e-01],\n",
       "        [1.8416e-10],\n",
       "        [2.0093e-01],\n",
       "        [1.9410e-01],\n",
       "        [3.2174e-01],\n",
       "        [1.4528e-01],\n",
       "        [5.2174e-01],\n",
       "        [1.3151e-01],\n",
       "        [2.3716e-01],\n",
       "        [1.4496e-01],\n",
       "        [2.7991e-01],\n",
       "        [6.4049e-01],\n",
       "        [2.1885e-01],\n",
       "        [8.8242e-01],\n",
       "        [4.7042e-03],\n",
       "        [9.9996e-01],\n",
       "        [4.1170e-02],\n",
       "        [5.4297e-01],\n",
       "        [1.9700e-02],\n",
       "        [1.3080e-01],\n",
       "        [1.5979e-02],\n",
       "        [5.8129e-01],\n",
       "        [1.6640e-01],\n",
       "        [6.9234e-03],\n",
       "        [1.1228e-04],\n",
       "        [9.7651e-03],\n",
       "        [1.4548e-08],\n",
       "        [8.3672e-01],\n",
       "        [1.7179e-01],\n",
       "        [1.8943e-02],\n",
       "        [4.3932e-01],\n",
       "        [5.6093e-07],\n",
       "        [8.4543e-01],\n",
       "        [2.9518e-01],\n",
       "        [9.6912e-01],\n",
       "        [3.5040e-01],\n",
       "        [1.0973e-01],\n",
       "        [1.4695e-02],\n",
       "        [1.1507e-01],\n",
       "        [8.4191e-03],\n",
       "        [8.1419e-05],\n",
       "        [3.6894e-01],\n",
       "        [5.6931e-01],\n",
       "        [3.6294e-02],\n",
       "        [9.0522e-01],\n",
       "        [2.5399e-01],\n",
       "        [1.3296e-03],\n",
       "        [2.3728e-01],\n",
       "        [2.2391e-14],\n",
       "        [5.6427e-02],\n",
       "        [8.6500e-02],\n",
       "        [3.6260e-01],\n",
       "        [1.5591e-01],\n",
       "        [6.3056e-02],\n",
       "        [1.8187e-01],\n",
       "        [1.2796e-01],\n",
       "        [1.6383e-01],\n",
       "        [2.4199e-02],\n",
       "        [8.3827e-01],\n",
       "        [6.4297e-02],\n",
       "        [3.8393e-02],\n",
       "        [1.2980e-03],\n",
       "        [7.1743e-01],\n",
       "        [3.4287e-02],\n",
       "        [9.3249e-01],\n",
       "        [1.0136e-05],\n",
       "        [2.7786e-03],\n",
       "        [2.9069e-01],\n",
       "        [8.2139e-01],\n",
       "        [8.4174e-01],\n",
       "        [1.1747e-02],\n",
       "        [2.3379e-01],\n",
       "        [2.2996e-01],\n",
       "        [7.8079e-04],\n",
       "        [2.0906e-01],\n",
       "        [2.4704e-01],\n",
       "        [4.3928e-01],\n",
       "        [4.8967e-01],\n",
       "        [8.4187e-02],\n",
       "        [7.1415e-01],\n",
       "        [3.3887e-01],\n",
       "        [3.0459e-01],\n",
       "        [6.9255e-01],\n",
       "        [2.6307e-01],\n",
       "        [4.0888e-01],\n",
       "        [8.6358e-01],\n",
       "        [5.4050e-01],\n",
       "        [1.8243e-11],\n",
       "        [1.3853e-01],\n",
       "        [2.4422e-01],\n",
       "        [7.3639e-01],\n",
       "        [6.8362e-02],\n",
       "        [8.3988e-01],\n",
       "        [5.1572e-03],\n",
       "        [7.3160e-01],\n",
       "        [2.5512e-01],\n",
       "        [6.7067e-01],\n",
       "        [9.1353e-01],\n",
       "        [2.7909e-01],\n",
       "        [5.0544e-02],\n",
       "        [2.6919e-04],\n",
       "        [4.4088e-02],\n",
       "        [7.3193e-01],\n",
       "        [2.5504e-01],\n",
       "        [8.1203e-01],\n",
       "        [3.8012e-01],\n",
       "        [8.7315e-01],\n",
       "        [1.9407e-01],\n",
       "        [1.4106e-02],\n",
       "        [1.6511e-01],\n",
       "        [3.3325e-01],\n",
       "        [3.6444e-01],\n",
       "        [4.5361e-01],\n",
       "        [1.3493e-05],\n",
       "        [4.7895e-02],\n",
       "        [6.7152e-01],\n",
       "        [2.3627e-01],\n",
       "        [9.1372e-01],\n",
       "        [9.8210e-01],\n",
       "        [3.2496e-01],\n",
       "        [3.7343e-01],\n",
       "        [1.5233e-03],\n",
       "        [3.1537e-02],\n",
       "        [5.1028e-01],\n",
       "        [9.9662e-01],\n",
       "        [5.7275e-02],\n",
       "        [9.4553e-01],\n",
       "        [6.8188e-01],\n",
       "        [5.0513e-01],\n",
       "        [5.2630e-03],\n",
       "        [8.0673e-01],\n",
       "        [1.3300e-06],\n",
       "        [9.8380e-01],\n",
       "        [5.0758e-02],\n",
       "        [6.0481e-03],\n",
       "        [1.6544e-05],\n",
       "        [2.9388e-01],\n",
       "        [1.4911e-01],\n",
       "        [5.0025e-16],\n",
       "        [4.5895e-02],\n",
       "        [3.8687e-01],\n",
       "        [1.0927e-02],\n",
       "        [6.1945e-01],\n",
       "        [9.9695e-01],\n",
       "        [4.5687e-04],\n",
       "        [4.1543e-01],\n",
       "        [4.6516e-01],\n",
       "        [4.6372e-03],\n",
       "        [2.9821e-01],\n",
       "        [3.4825e-01],\n",
       "        [8.2062e-01],\n",
       "        [2.4001e-02],\n",
       "        [1.8311e-01],\n",
       "        [1.3430e-01],\n",
       "        [2.9278e-01],\n",
       "        [8.9826e-01],\n",
       "        [4.4082e-03],\n",
       "        [2.7863e-01],\n",
       "        [3.9488e-03],\n",
       "        [3.5489e-05],\n",
       "        [5.2556e-01],\n",
       "        [5.0512e-01],\n",
       "        [1.0945e-03],\n",
       "        [2.3939e-01],\n",
       "        [2.4883e-01],\n",
       "        [1.2444e-01],\n",
       "        [2.0978e-01],\n",
       "        [4.2237e-01],\n",
       "        [1.8293e-01],\n",
       "        [3.0030e-05],\n",
       "        [9.0814e-01],\n",
       "        [6.8695e-01],\n",
       "        [1.4630e-02],\n",
       "        [9.7242e-01],\n",
       "        [2.4368e-01],\n",
       "        [6.7801e-01],\n",
       "        [2.3638e-01],\n",
       "        [5.7614e-01],\n",
       "        [8.1925e-01],\n",
       "        [6.2491e-01],\n",
       "        [2.3116e-01],\n",
       "        [2.3652e-04],\n",
       "        [1.0908e-01],\n",
       "        [1.5477e-01],\n",
       "        [6.9602e-01],\n",
       "        [5.6641e-02],\n",
       "        [1.9290e-01],\n",
       "        [1.3049e-02],\n",
       "        [1.1382e-01],\n",
       "        [1.2622e-04],\n",
       "        [2.9959e-01],\n",
       "        [1.9627e-01],\n",
       "        [2.7986e-01],\n",
       "        [3.6685e-01],\n",
       "        [9.5889e-01],\n",
       "        [3.8462e-04],\n",
       "        [3.1639e-01],\n",
       "        [1.3533e-01],\n",
       "        [4.7074e-01],\n",
       "        [2.2086e-01],\n",
       "        [7.1960e-04],\n",
       "        [2.4453e-01],\n",
       "        [4.9215e-02],\n",
       "        [3.1864e-01],\n",
       "        [9.7449e-01],\n",
       "        [9.3836e-01],\n",
       "        [1.9813e-04],\n",
       "        [2.2603e-03],\n",
       "        [8.7673e-01],\n",
       "        [4.9985e-01],\n",
       "        [4.0997e-02],\n",
       "        [2.2360e-01],\n",
       "        [8.8511e-01],\n",
       "        [3.3766e-01],\n",
       "        [1.5821e-10],\n",
       "        [1.3049e-02],\n",
       "        [8.0411e-02],\n",
       "        [2.1436e-01],\n",
       "        [5.8617e-01],\n",
       "        [8.3979e-01],\n",
       "        [6.0551e-03],\n",
       "        [3.5497e-02],\n",
       "        [4.3040e-03],\n",
       "        [2.6396e-01],\n",
       "        [5.2191e-03],\n",
       "        [1.6089e-01],\n",
       "        [2.7092e-01],\n",
       "        [7.7260e-01],\n",
       "        [9.9996e-01],\n",
       "        [9.9184e-01],\n",
       "        [2.6452e-01],\n",
       "        [2.3445e-01],\n",
       "        [6.4552e-01],\n",
       "        [1.4697e-03],\n",
       "        [5.7219e-02],\n",
       "        [7.5197e-06],\n",
       "        [5.9926e-01],\n",
       "        [1.1169e-01],\n",
       "        [2.6370e-01],\n",
       "        [3.2146e-01],\n",
       "        [2.9039e-01],\n",
       "        [2.1769e-02],\n",
       "        [1.0000e+00],\n",
       "        [1.1917e-01],\n",
       "        [2.3287e-01],\n",
       "        [2.5475e-01],\n",
       "        [2.2600e-03],\n",
       "        [4.5014e-02],\n",
       "        [1.7957e-02],\n",
       "        [7.5784e-01],\n",
       "        [8.1683e-01],\n",
       "        [7.8147e-01],\n",
       "        [1.5917e-01],\n",
       "        [5.2748e-03],\n",
       "        [8.1114e-03],\n",
       "        [5.2390e-01],\n",
       "        [2.3883e-01],\n",
       "        [7.2771e-01],\n",
       "        [9.9476e-02],\n",
       "        [1.0217e-01],\n",
       "        [1.9880e-01],\n",
       "        [2.6046e-01],\n",
       "        [9.3596e-01],\n",
       "        [1.5155e-01],\n",
       "        [2.8471e-01],\n",
       "        [7.7396e-01],\n",
       "        [2.2816e-01],\n",
       "        [6.3653e-01],\n",
       "        [7.4420e-01],\n",
       "        [5.3511e-02],\n",
       "        [1.8227e-01],\n",
       "        [9.9345e-01],\n",
       "        [1.5330e-01],\n",
       "        [3.3034e-04],\n",
       "        [8.9241e-01],\n",
       "        [3.7576e-01],\n",
       "        [1.3166e-02],\n",
       "        [3.2202e-02],\n",
       "        [2.3647e-01],\n",
       "        [8.6858e-03],\n",
       "        [1.1255e-02],\n",
       "        [2.0718e-02],\n",
       "        [3.9154e-04],\n",
       "        [2.6526e-01],\n",
       "        [9.5664e-03],\n",
       "        [7.1719e-01],\n",
       "        [2.2372e-03],\n",
       "        [9.8601e-01],\n",
       "        [2.7656e-02],\n",
       "        [1.5933e-01],\n",
       "        [1.7571e-01],\n",
       "        [2.6418e-01],\n",
       "        [8.1177e-01],\n",
       "        [1.5096e-01],\n",
       "        [8.5089e-02],\n",
       "        [9.7805e-03],\n",
       "        [2.0291e-02],\n",
       "        [1.3789e-01],\n",
       "        [2.1435e-02],\n",
       "        [9.7764e-01],\n",
       "        [1.0400e-07],\n",
       "        [2.7330e-05],\n",
       "        [7.8163e-08],\n",
       "        [1.4987e-01],\n",
       "        [4.7005e-01],\n",
       "        [1.5070e-04],\n",
       "        [1.3186e-04],\n",
       "        [2.0288e-01],\n",
       "        [1.3597e-02],\n",
       "        [1.1386e-02],\n",
       "        [1.4991e-03],\n",
       "        [9.5164e-02],\n",
       "        [5.8575e-05],\n",
       "        [2.6622e-01],\n",
       "        [4.9140e-01],\n",
       "        [7.5000e-01],\n",
       "        [2.5711e-01],\n",
       "        [3.7202e-03],\n",
       "        [8.0780e-01],\n",
       "        [5.0270e-01],\n",
       "        [4.3653e-02],\n",
       "        [8.4191e-03],\n",
       "        [1.8526e-01],\n",
       "        [1.9838e-01],\n",
       "        [1.9647e-01],\n",
       "        [1.2494e-14],\n",
       "        [1.6044e-01],\n",
       "        [1.0923e-01],\n",
       "        [2.8381e-01],\n",
       "        [7.4925e-02],\n",
       "        [2.0312e-01],\n",
       "        [3.0906e-03],\n",
       "        [3.7686e-01],\n",
       "        [2.9978e-02],\n",
       "        [4.7601e-02],\n",
       "        [6.4510e-01],\n",
       "        [4.3675e-04],\n",
       "        [5.3249e-01],\n",
       "        [5.7686e-12],\n",
       "        [5.6876e-01],\n",
       "        [9.4988e-01],\n",
       "        [3.0077e-01],\n",
       "        [9.9165e-01],\n",
       "        [9.5913e-01],\n",
       "        [9.0152e-01],\n",
       "        [7.2945e-01],\n",
       "        [1.0848e-01],\n",
       "        [2.1418e-01],\n",
       "        [9.8891e-01],\n",
       "        [3.5322e-02],\n",
       "        [1.6174e-01],\n",
       "        [2.2242e-01],\n",
       "        [8.7924e-01],\n",
       "        [4.1023e-02],\n",
       "        [1.0795e-01],\n",
       "        [2.6801e-01],\n",
       "        [1.2186e-01],\n",
       "        [3.1390e-05],\n",
       "        [7.6996e-06],\n",
       "        [4.8543e-01],\n",
       "        [7.7431e-01],\n",
       "        [2.4673e-01],\n",
       "        [4.5949e-01],\n",
       "        [1.4469e-03],\n",
       "        [7.6193e-01],\n",
       "        [8.8725e-02],\n",
       "        [9.8260e-01],\n",
       "        [9.9973e-01],\n",
       "        [3.7155e-02],\n",
       "        [4.2577e-01],\n",
       "        [4.0151e-01],\n",
       "        [1.8316e-01],\n",
       "        [6.6430e-02],\n",
       "        [3.6151e-01],\n",
       "        [9.6841e-01],\n",
       "        [2.5454e-02],\n",
       "        [1.1700e-02],\n",
       "        [1.1248e-01],\n",
       "        [7.0168e-01],\n",
       "        [9.1484e-01],\n",
       "        [2.1836e-02],\n",
       "        [1.9703e-04],\n",
       "        [6.4574e-04],\n",
       "        [2.5318e-03],\n",
       "        [9.4462e-01],\n",
       "        [2.4502e-01],\n",
       "        [1.1295e-01],\n",
       "        [1.9922e-03],\n",
       "        [1.1421e-01],\n",
       "        [6.4411e-01],\n",
       "        [9.6540e-01],\n",
       "        [1.2523e-23],\n",
       "        [5.5235e-01],\n",
       "        [9.8638e-01],\n",
       "        [2.9808e-01],\n",
       "        [6.2947e-01],\n",
       "        [2.2577e-02],\n",
       "        [1.2433e-01],\n",
       "        [7.8740e-01],\n",
       "        [2.2291e-11],\n",
       "        [1.8294e-01],\n",
       "        [1.2963e-04],\n",
       "        [1.0018e-01],\n",
       "        [1.4711e-01],\n",
       "        [1.7843e-01],\n",
       "        [6.7081e-01],\n",
       "        [8.5543e-01],\n",
       "        [9.7374e-02],\n",
       "        [9.7596e-01],\n",
       "        [2.4620e-01],\n",
       "        [6.0721e-01],\n",
       "        [3.8909e-02],\n",
       "        [9.9997e-01],\n",
       "        [2.3721e-01],\n",
       "        [5.7578e-01],\n",
       "        [7.7185e-04],\n",
       "        [1.3281e-02],\n",
       "        [4.8520e-01],\n",
       "        [1.0308e-02],\n",
       "        [7.6510e-02],\n",
       "        [2.1214e-01],\n",
       "        [4.3135e-02],\n",
       "        [1.7791e-01],\n",
       "        [9.2240e-01],\n",
       "        [8.7895e-01],\n",
       "        [2.5259e-01],\n",
       "        [8.5848e-01],\n",
       "        [2.5881e-01],\n",
       "        [1.4392e-03],\n",
       "        [1.6045e-04],\n",
       "        [9.8012e-01],\n",
       "        [7.0804e-01],\n",
       "        [7.6717e-01],\n",
       "        [2.2756e-01],\n",
       "        [3.1218e-01],\n",
       "        [8.5777e-01],\n",
       "        [1.1131e-01],\n",
       "        [2.6581e-01],\n",
       "        [5.0484e-01],\n",
       "        [3.9430e-06],\n",
       "        [4.1698e-02],\n",
       "        [2.1512e-01],\n",
       "        [1.8974e-01],\n",
       "        [6.3943e-01],\n",
       "        [2.0664e-01],\n",
       "        [2.4798e-01],\n",
       "        [1.8927e-02],\n",
       "        [1.5298e-02],\n",
       "        [2.9995e-02],\n",
       "        [4.6497e-03],\n",
       "        [6.2846e-01],\n",
       "        [2.4332e-01],\n",
       "        [4.0809e-01],\n",
       "        [1.2902e-01],\n",
       "        [1.0768e-01],\n",
       "        [1.9794e-01],\n",
       "        [4.4537e-02],\n",
       "        [4.8749e-01],\n",
       "        [8.3744e-01],\n",
       "        [2.8430e-01],\n",
       "        [3.8991e-02],\n",
       "        [3.1298e-01],\n",
       "        [8.5415e-02],\n",
       "        [6.3599e-01],\n",
       "        [2.1717e-01],\n",
       "        [1.1312e-01],\n",
       "        [2.1935e-04],\n",
       "        [1.2902e-01],\n",
       "        [3.6949e-02],\n",
       "        [1.3440e-02],\n",
       "        [7.4721e-06],\n",
       "        [6.6963e-01],\n",
       "        [9.6715e-01],\n",
       "        [9.6130e-01],\n",
       "        [3.3251e-01],\n",
       "        [1.7792e-02],\n",
       "        [2.5385e-01],\n",
       "        [7.6030e-01],\n",
       "        [1.1155e-01],\n",
       "        [1.6231e-02],\n",
       "        [5.4450e-01],\n",
       "        [8.9813e-02],\n",
       "        [7.3213e-01],\n",
       "        [6.3984e-01],\n",
       "        [2.0020e-01],\n",
       "        [1.6579e-01],\n",
       "        [2.5707e-01],\n",
       "        [1.4580e-02],\n",
       "        [1.5916e-01],\n",
       "        [4.4043e-02],\n",
       "        [6.4310e-03],\n",
       "        [1.4507e-10],\n",
       "        [1.9960e-01],\n",
       "        [6.0604e-01],\n",
       "        [2.7803e-01],\n",
       "        [9.4051e-01],\n",
       "        [6.0777e-01],\n",
       "        [9.0128e-01],\n",
       "        [1.6918e-01],\n",
       "        [8.1978e-01],\n",
       "        [8.4984e-01],\n",
       "        [3.8605e-03],\n",
       "        [9.6550e-06],\n",
       "        [9.1024e-01],\n",
       "        [9.7481e-01],\n",
       "        [1.7331e-01],\n",
       "        [4.5886e-01],\n",
       "        [2.6257e-01],\n",
       "        [5.6412e-01],\n",
       "        [2.5847e-01],\n",
       "        [6.1596e-02],\n",
       "        [5.8835e-01],\n",
       "        [2.3828e-01],\n",
       "        [8.1114e-03],\n",
       "        [9.1864e-02],\n",
       "        [3.3088e-01],\n",
       "        [2.7095e-01],\n",
       "        [9.5595e-01],\n",
       "        [1.1609e-02],\n",
       "        [3.2061e-02],\n",
       "        [1.6539e-01],\n",
       "        [5.4888e-02],\n",
       "        [4.7810e-02],\n",
       "        [1.5826e-01],\n",
       "        [5.8875e-02],\n",
       "        [1.4938e-02],\n",
       "        [1.5704e-01],\n",
       "        [5.3325e-03],\n",
       "        [1.6182e-03],\n",
       "        [2.2624e-01],\n",
       "        [8.3640e-01],\n",
       "        [7.8557e-01],\n",
       "        [5.1039e-02],\n",
       "        [2.0645e-01],\n",
       "        [2.8027e-01],\n",
       "        [2.5471e-01],\n",
       "        [3.9777e-03],\n",
       "        [9.7233e-01],\n",
       "        [1.3150e-03],\n",
       "        [3.4695e-06],\n",
       "        [4.7989e-01],\n",
       "        [4.8191e-02],\n",
       "        [7.2488e-02],\n",
       "        [9.1001e-01],\n",
       "        [2.4868e-01],\n",
       "        [2.9718e-01],\n",
       "        [4.0833e-01],\n",
       "        [8.6061e-05],\n",
       "        [1.5293e-01],\n",
       "        [2.2164e-01],\n",
       "        [3.2805e-01],\n",
       "        [7.6568e-05],\n",
       "        [4.3726e-02],\n",
       "        [8.4512e-01],\n",
       "        [3.3491e-02],\n",
       "        [4.7704e-02],\n",
       "        [1.6889e-01],\n",
       "        [1.4213e-01],\n",
       "        [1.0641e-01],\n",
       "        [2.6017e-01],\n",
       "        [3.1685e-02],\n",
       "        [5.6504e-01],\n",
       "        [1.5043e-02],\n",
       "        [1.9267e-01],\n",
       "        [4.0889e-01],\n",
       "        [8.0948e-02],\n",
       "        [6.7392e-01],\n",
       "        [1.0686e-01],\n",
       "        [2.3044e-01],\n",
       "        [5.0181e-02],\n",
       "        [2.6979e-08],\n",
       "        [8.9835e-01],\n",
       "        [5.9330e-05],\n",
       "        [3.7942e-02],\n",
       "        [1.2028e-01],\n",
       "        [8.9573e-03],\n",
       "        [4.2981e-02],\n",
       "        [3.4917e-01],\n",
       "        [2.6314e-07],\n",
       "        [3.9028e-02],\n",
       "        [2.5058e-01],\n",
       "        [7.4087e-01],\n",
       "        [2.3012e-01],\n",
       "        [1.3471e-01],\n",
       "        [6.3939e-01],\n",
       "        [7.7075e-06],\n",
       "        [2.7791e-01],\n",
       "        [2.6749e-01],\n",
       "        [4.5702e-01],\n",
       "        [1.9782e-01],\n",
       "        [8.9600e-01],\n",
       "        [1.6754e-01],\n",
       "        [2.6678e-01],\n",
       "        [3.4469e-03],\n",
       "        [2.8251e-01],\n",
       "        [2.4875e-01],\n",
       "        [6.9392e-02],\n",
       "        [9.2412e-01],\n",
       "        [6.0767e-02],\n",
       "        [2.1876e-01],\n",
       "        [5.3220e-01],\n",
       "        [2.6382e-01],\n",
       "        [2.8484e-01],\n",
       "        [8.1450e-04],\n",
       "        [9.3332e-03],\n",
       "        [6.3574e-02],\n",
       "        [9.0531e-01],\n",
       "        [7.4721e-06],\n",
       "        [4.9142e-03],\n",
       "        [9.6701e-02],\n",
       "        [2.4655e-01],\n",
       "        [6.6334e-03],\n",
       "        [5.3749e-01],\n",
       "        [1.2902e-01],\n",
       "        [1.1640e-03],\n",
       "        [8.8272e-01],\n",
       "        [3.5012e-02],\n",
       "        [1.2394e-04],\n",
       "        [9.1492e-01],\n",
       "        [5.3178e-01],\n",
       "        [6.1258e-03],\n",
       "        [3.2285e-01],\n",
       "        [1.7140e-04],\n",
       "        [4.3135e-02],\n",
       "        [2.5707e-01],\n",
       "        [1.2328e-01],\n",
       "        [2.2512e-03],\n",
       "        [7.4830e-01],\n",
       "        [4.5431e-02],\n",
       "        [6.6925e-01],\n",
       "        [7.3287e-02],\n",
       "        [7.6662e-09],\n",
       "        [1.6133e-02],\n",
       "        [2.4369e-01],\n",
       "        [7.9227e-01],\n",
       "        [5.6413e-03],\n",
       "        [1.9766e-01],\n",
       "        [6.3597e-01],\n",
       "        [1.2027e-05],\n",
       "        [2.8098e-02],\n",
       "        [5.9895e-01],\n",
       "        [1.9303e-01],\n",
       "        [8.6950e-04],\n",
       "        [2.1181e-01],\n",
       "        [1.5925e-01],\n",
       "        [9.3336e-01],\n",
       "        [6.8667e-01],\n",
       "        [2.3123e-02],\n",
       "        [7.0534e-01],\n",
       "        [9.2276e-02],\n",
       "        [1.1207e-04],\n",
       "        [7.0431e-01],\n",
       "        [6.7362e-01],\n",
       "        [2.7606e-03],\n",
       "        [2.5381e-02],\n",
       "        [5.7819e-01],\n",
       "        [1.4724e-03],\n",
       "        [9.5292e-01],\n",
       "        [3.2039e-02],\n",
       "        [5.9598e-01],\n",
       "        [2.9475e-01],\n",
       "        [5.3862e-02],\n",
       "        [2.1278e-02],\n",
       "        [1.2177e-02],\n",
       "        [9.3229e-01],\n",
       "        [4.7005e-01],\n",
       "        [1.8034e-01],\n",
       "        [8.8039e-02],\n",
       "        [8.2670e-01],\n",
       "        [4.7005e-01],\n",
       "        [6.2789e-01],\n",
       "        [1.4997e-01],\n",
       "        [7.1391e-01],\n",
       "        [1.3978e-01],\n",
       "        [4.0814e-01],\n",
       "        [2.3974e-01],\n",
       "        [2.6314e-07],\n",
       "        [3.4009e-01],\n",
       "        [6.8058e-01],\n",
       "        [9.8530e-01],\n",
       "        [4.1579e-01],\n",
       "        [1.4053e-04],\n",
       "        [8.2336e-02],\n",
       "        [3.0199e-01],\n",
       "        [1.1958e-06],\n",
       "        [7.4436e-02],\n",
       "        [3.6973e-01],\n",
       "        [1.0356e-01],\n",
       "        [1.8246e-01],\n",
       "        [2.9388e-01],\n",
       "        [1.1336e-03],\n",
       "        [6.8563e-04],\n",
       "        [7.8963e-02],\n",
       "        [7.6918e-07],\n",
       "        [3.5783e-02],\n",
       "        [5.6084e-02],\n",
       "        [2.5428e-01],\n",
       "        [2.1528e-01],\n",
       "        [5.0903e-03],\n",
       "        [5.8484e-01],\n",
       "        [5.5335e-01],\n",
       "        [2.3406e-02],\n",
       "        [3.2899e-01],\n",
       "        [1.6353e-03],\n",
       "        [2.2055e-02],\n",
       "        [5.8345e-01],\n",
       "        [3.1864e-01],\n",
       "        [1.8691e-01],\n",
       "        [5.6145e-03],\n",
       "        [8.7884e-01],\n",
       "        [1.8808e-01],\n",
       "        [4.3719e-02],\n",
       "        [2.7648e-04],\n",
       "        [6.0570e-01],\n",
       "        [2.0278e-01],\n",
       "        [8.5787e-02]])"
      ]
     },
     "execution_count": 158,
     "metadata": {},
     "output_type": "execute_result"
    }
   ],
   "source": [
    "y_val_pred"
   ]
  },
  {
   "cell_type": "code",
   "execution_count": 159,
   "metadata": {},
   "outputs": [
    {
     "data": {
      "text/plain": [
       "array([[584,   3],\n",
       "       [ 25, 216]], dtype=int64)"
      ]
     },
     "execution_count": 159,
     "metadata": {},
     "output_type": "execute_result"
    }
   ],
   "source": [
    "# Make the confusion matrix\n",
    "from sklearn.metrics import confusion_matrix\n",
    "\n",
    "y_val_pred = y_val_pred.detach().numpy()\n",
    "y_val_pred = np.where(y_val_pred > 0.5, 1, 0)\n",
    "confusion_matrix(y_val, y_val_pred)"
   ]
  },
  {
   "cell_type": "code",
   "execution_count": 160,
   "metadata": {},
   "outputs": [
    {
     "data": {
      "text/plain": [
       "0.966183574879227"
      ]
     },
     "execution_count": 160,
     "metadata": {},
     "output_type": "execute_result"
    }
   ],
   "source": [
    "from sklearn.metrics import accuracy_score\n",
    "accuracy_score(y_val, y_val_pred)"
   ]
  },
  {
   "cell_type": "code",
   "execution_count": 161,
   "metadata": {},
   "outputs": [
    {
     "name": "stdout",
     "output_type": "stream",
     "text": [
      "              precision    recall  f1-score   support\n",
      "\n",
      "           0       0.96      0.99      0.98       587\n",
      "           1       0.99      0.90      0.94       241\n",
      "\n",
      "    accuracy                           0.97       828\n",
      "   macro avg       0.97      0.95      0.96       828\n",
      "weighted avg       0.97      0.97      0.97       828\n",
      "\n"
     ]
    }
   ],
   "source": [
    "from sklearn.metrics import classification_report\n",
    "print(classification_report(y_val, y_val_pred))"
   ]
  },
  {
   "cell_type": "code",
   "execution_count": 162,
   "metadata": {},
   "outputs": [],
   "source": [
    "# Save the model\n",
    "torch.save(model.state_dict(), 'models/spam_ham_classifier.pth')"
   ]
  },
  {
   "cell_type": "code",
   "execution_count": 163,
   "metadata": {},
   "outputs": [
    {
     "name": "stdout",
     "output_type": "stream",
     "text": [
      "Spam\n"
     ]
    }
   ],
   "source": [
    "# Load the saved model\n",
    "model = SpamHamClassifier()\n",
    "model.load_state_dict(torch.load('models/spam_ham_classifier.pth'))\n",
    "\n",
    "test_email = \"Congratulations! You have won a free trip to Hawaii. Click here to claim your prize.\"\n",
    "\n",
    "test_email = vectorizer.transform([test_email])\n",
    "test_email = torch.tensor(test_email.toarray()).float()\n",
    "prediction = model(test_email)\n",
    "prediction = prediction.detach().numpy()\n",
    "prediction = np.where(prediction > 0.5, 1, 0)\n",
    "print(\"Spam\" if prediction[0][0] == 1 else \"Ham\")"
   ]
  },
  {
   "cell_type": "code",
   "execution_count": 164,
   "metadata": {},
   "outputs": [
    {
     "name": "stdout",
     "output_type": "stream",
     "text": [
      "Ham\n"
     ]
    }
   ],
   "source": [
    "test_email = \"Hey, how are you doing? Let's catch up soon.\"\n",
    "test_email = vectorizer.transform([test_email])\n",
    "test_email = torch.tensor(test_email.toarray()).float()\n",
    "prediction = model(test_email)\n",
    "prediction = prediction.detach().numpy()\n",
    "prediction = np.where(prediction > 0.5 , 1 , 0)\n",
    "print(\"Spam\" if prediction[0][0] == 1 else \"Ham\")"
   ]
  },
  {
   "cell_type": "code",
   "execution_count": 166,
   "metadata": {},
   "outputs": [
    {
     "name": "stdout",
     "output_type": "stream",
     "text": [
      "Prediction:  [[0.93860894]]\n",
      "Spam\n"
     ]
    }
   ],
   "source": [
    "test_email = \"\"\"\n",
    "Big Apple, Bigger AI: Catch Up On All the News From RAG ++ NYC\n",
    "Welcome to AI++. You may know this newsletter by its old name—News You Can Use. We've got a new name, but it’s still the same email. Well, not quite the same. In each issue, we feature the latest and greatest AI news, tutorials, and insights. We have a whole lot of stuff to cover. So, let’s get right to it.\n",
    "\n",
    " The Headlines\n",
    "\n",
    "Big News From The Big Apple: Unpacking RAG++ NYC\n",
    "That was a whirlwind. At RAG++ in NYC we announced a ton of new integrations, partnerships, and tools that developers can use to build apps faster and focus on their creativity. Here are the big ships you might have missed:\n",
    "\n",
    "DataStax Langflow API Is In Public Preview\n",
    "Wherever you’re building, the DataStax Langflow API is never too far. With one HTTP call to a DataStax-hosted API endpoint, you can tag Langflow into your app and put it to work.\n",
    "\n",
    "Two New Integrations Hot Off The Presses: Unstructured.io and Glean\n",
    "There are two questions developers might ask themselves when building enterprise-grade AI apps: 1. Why do I have to format all of this data just so my database will accept it? 2. Why can’t I just ask my database a question? Well, our new integration with Unstructured.io helps you drastically simplify the document ingestion process so you can save time and stress less. And, our integration with Glean gives you the power to ask your database questions, and get answers in plain language. Pretty cool, right? We think so.\n",
    "\n",
    "More cool AI development and stories await at RAG++ London on 24 September. Space is limited, so request to join today to secure your spot.\n",
    "\n",
    "AI Joins the Fight Against Climate Change\n",
    "Climate change is an existential threat to all of us. But, it’s a day-to-day problem for farmers. Now, one AI-company is helping farmers get the most out of their crop yields and use their water efficiently. Read about SupPlant’s work here.\n",
    "\n",
    "GenAI 101 Is Now In Session\n",
    "If you’ve got development chops, but you’re new to all things RAG and GenAI, no problem. This primer will help you get on the right path. Learn how to master the basics of GenAI development, and build an app yourself here.\n",
    "\n",
    "Hunting Down a Song with AI\n",
    "We hear a lot about AI changing the future, but what about right now? Right now, you might be humming some song that you can’t remember the title of. How can AI help you find the answer? Well, we’ve got a tutorial for you.\n",
    "\n",
    "\n",
    "\n",
    " Coming Soon\n",
    "\n",
    "Infobip Shift | Sept 15-17 | Zadar, Croatia\n",
    "Infobip Shift returns to Croatia, bringing together the global tech community once more. Join us as we connect, innovate, and explore the future of code together.\n",
    "\n",
    "RAG + AI Happy Hour | Sept 17 | Seattle\n",
    "Join DataStax and Unstructured for a fun AI happy hour. Celebrate the end of summer with fellow AI developers and talk about the latest and greatest in building apps using RAG. ⇢ RSVP here.\n",
    "\n",
    "Big Data London | Sept 18-19\n",
    "The two day event is a hub for the Data Community to learn and share best practice, build relationships and find the tools needed to develop an effective data-driven business. \n",
    "\n",
    "Replay Conference | Sept 18-20 | Seattle\n",
    "Temporal brings back this 3-day conference for its third year to gather thought leaders and backend engineers to share insights and best practices focused on durable execution.\n",
    "\n",
    "GenAI Meetup & RAG Workshop - Oktoberfest Edition | Sept 26 | Munich\n",
    "Join us in Munich for an exclusive full day, dual-track event with Microsoft tailored for IT/AI professionals and developers, culminating in an afternoon of Oktoberfest networking.⇢ Book your ticket here.\n",
    "\n",
    "AI PaaS, the New Way to Deliver GenAI Apps 100x Quicker | Oct 10 | Sydney\n",
    "Come meet the DataStax team in Sydney and learn all about how AI Platform as a Service can help you get to production, fast. Create smart, high-growth AI applications at unlimited scale, on any cloud or infrastructure. ⇢ Save your seat.\n",
    "\n",
    "  Livestreams\n",
    "\n",
    "Reading through a tutorial is one thing. Watching someone build an app live is another. We learn a lot by watching someone live code, troubleshoot, and rundown the ins and outs of niche development topics. This month, you have more than your fair share of opportunities to check out livestreams to help you level up your AI app-building skills.\n",
    "\n",
    "Unstructured & DataStax | Sept 19 @ 10 am PT\n",
    "How do you easily tap into unimaginable large troves of data, spread across multiple data sources and formats? Join DataStax and the Unstructured team to learn how we can help get your unstructured data ready to use in your AI-enabled applications. ⇢ RSVP here.\n",
    "\n",
    "Learn How to Build an AI Chatbot | Sept 25 @ 10 am PT\n",
    "Follow along as Amplience and DataStax show you how to leverage large amounts of data to create an AI-driven shopping assistant. Learn to ingest product data with Langflow, and build a simple chat interface that conversationally finds products to add to your shopping cart!⇢ Register here.\n",
    "\n",
    "GenAI 101: Getting Started With a Vector Database | Oct 2 @ 10 am PT\n",
    "Get introduced to the basics of using a vector database with Astra DB. We’ll walk through the Generative AI data flow, from creating vector embeddings to storing and querying data efficiently. Join us to learn how Astra DB can power your AI-driven applications.⇢ Dive in here.\n",
    "\n",
    "Level up your Chatbot with Graph RAG & LangChain | Oct 9 @ 10 am PT\n",
    "You've built a GenAI Chatbot with RAG, but how do you get it to answer more complex questions? Improve complexity, reduce hallucinations, and enhance your chatbot intelligence with Graph RAG.⇢ Make your chatbot smarter here.\n",
    "\n",
    " Thanks!\n",
    "\n",
    "If you dig this email, feel free to share it far and wide. Update your email preferences and subscribe to make sure you don't miss one of these updates, or opt-out if you prefer not to receive them.\n",
    "\n",
    "\"\"\"\n",
    "test_email = vectorizer.transform([test_email])\n",
    "test_email = torch.tensor(test_email.toarray()).float()\n",
    "prediction = model(test_email)\n",
    "prediction = prediction.detach().numpy()\n",
    "print(\"Prediction: \", prediction)\n",
    "prediction = np.where(prediction > 0.5 , 1 , 0)\n",
    "print(\"Spam\" if prediction[0][0] == 1 else \"Ham\")"
   ]
  },
  {
   "cell_type": "code",
   "execution_count": null,
   "metadata": {},
   "outputs": [],
   "source": []
  }
 ],
 "metadata": {
  "kernelspec": {
   "display_name": "base",
   "language": "python",
   "name": "python3"
  },
  "language_info": {
   "codemirror_mode": {
    "name": "ipython",
    "version": 3
   },
   "file_extension": ".py",
   "mimetype": "text/x-python",
   "name": "python",
   "nbconvert_exporter": "python",
   "pygments_lexer": "ipython3",
   "version": "3.11.7"
  }
 },
 "nbformat": 4,
 "nbformat_minor": 2
}
